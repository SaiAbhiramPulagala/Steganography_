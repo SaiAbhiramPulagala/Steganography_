{
 "cells": [
  {
   "cell_type": "code",
   "execution_count": 1,
   "id": "b116aa8d",
   "metadata": {
    "tags": []
   },
   "outputs": [],
   "source": [
    "import numpy as np\n",
    "import pandas as pand\n",
    "import os\n",
    "import cv2\n",
    "from matplotlib import pyplot as plt"
   ]
  },
  {
   "cell_type": "code",
   "execution_count": 2,
   "id": "253e05f7",
   "metadata": {
    "tags": []
   },
   "outputs": [],
   "source": [
    "def txt_encode(text):\n",
    "    l=len(text)\n",
    "    i=0\n",
    "    add=''\n",
    "    while i<l:\n",
    "        t=ord(text[i])\n",
    "        if(t>=32 and t<=64):\n",
    "            t1=t+48\n",
    "            t2=t1^170       #170: 10101010\n",
    "            res = bin(t2)[2:].zfill(8)\n",
    "            add+=\"0011\"+res\n",
    "        \n",
    "        else:\n",
    "            t1=t-48\n",
    "            t2=t1^170\n",
    "            res = bin(t2)[2:].zfill(8)\n",
    "            add+=\"0110\"+res\n",
    "        i+=1\n",
    "    res1=add+\"111111111111\"\n",
    "    print(\"The string after binary conversion appyling all the transformation :- \" + (res1))   \n",
    "    length = len(res1)\n",
    "    print(\"Length of binary after conversion:- \",length)\n",
    "    HM_SK=\"\"\n",
    "    ZWC={\"00\":u'\\u200C',\"01\":u'\\u202C',\"11\":u'\\u202D',\"10\":u'\\u200E'}      \n",
    "    file1 = open(\"covertext_sample.txt\",\"r+\")\n",
    "    nameoffile = input(\"\\nEnter the name of the Stego file after Encoding(with extension):- \")\n",
    "    file3= open(nameoffile,\"w+\", encoding=\"utf-8\")\n",
    "    word=[]\n",
    "    for line in file1: \n",
    "        word+=line.split()\n",
    "    i=0\n",
    "    while(i<len(res1)):  \n",
    "        s=word[int(i/12)]\n",
    "        j=0\n",
    "        x=\"\"\n",
    "        HM_SK=\"\"\n",
    "        while(j<12):\n",
    "            x=res1[j+i]+res1[i+j+1]\n",
    "            HM_SK+=ZWC[x]\n",
    "            j+=2\n",
    "        s1=s+HM_SK\n",
    "        file3.write(s1)\n",
    "        file3.write(\" \")\n",
    "        i+=12\n",
    "    t=int(len(res1)/12)     \n",
    "    while t<len(word): \n",
    "        file3.write(word[t])\n",
    "        file3.write(\" \")\n",
    "        t+=1\n",
    "    file3.close()  \n",
    "    file1.close()\n",
    "    print(\"\\nStego file has successfully generated\")"
   ]
  },
  {
   "cell_type": "code",
   "execution_count": 1,
   "id": "9a4a02e7",
   "metadata": {
    "tags": []
   },
   "outputs": [],
   "source": [
    "def encode_txt_data():\n",
    "    count2=0\n",
    "    file1 = open(\"covertext_sample.txt\",\"r\")\n",
    "    for line in file1: \n",
    "        for word in line.split():\n",
    "            count2=count2+1\n",
    "    file1.close()       \n",
    "    bt=int(count2)\n",
    "    print(\"Maximum number of words that can be inserted :- \",int(bt/6))\n",
    "    text1=input(\"\\nEnter data to be encoded:- \")\n",
    "    l=len(text1)\n",
    "    if(l<=bt):\n",
    "        print(\"\\nInputed message can be hidden in the cover file\\n\")\n",
    "        txt_encode(text1)\n",
    "    else:\n",
    "        print(\"\\nString is too big please reduce string size\")\n",
    "        encode_txt_data()"
   ]
  },
  {
   "cell_type": "code",
   "execution_count": 2,
   "id": "bf6d0436",
   "metadata": {
    "tags": []
   },
   "outputs": [],
   "source": [
    "def BinaryToDecimal(binary):\n",
    "    string = int(binary, 2)\n",
    "    return string"
   ]
  },
  {
   "cell_type": "code",
   "execution_count": 3,
   "id": "0c68a2b5",
   "metadata": {
    "tags": []
   },
   "outputs": [],
   "source": [
    "def decode_txt_data():\n",
    "    ZWC_reverse={u'\\u200C':\"00\",u'\\u202C':\"01\",u'\\u202D':\"11\",u'\\u200E':\"10\"}\n",
    "    stego=input(\"\\nPlease enter the stego file name(with extension) to decode the message:- \")\n",
    "    file4= open(stego,\"r\", encoding=\"utf-8\")\n",
    "    temp=''\n",
    "    for line in file4: \n",
    "        for words in line.split():\n",
    "            T1=words\n",
    "            binary_extract=\"\"\n",
    "            for letter in T1:\n",
    "                if(letter in ZWC_reverse):\n",
    "                     binary_extract+=ZWC_reverse[letter]\n",
    "            if binary_extract==\"111111111111\":\n",
    "                break\n",
    "            else:\n",
    "                temp+=binary_extract\n",
    "    print(\"\\nEncrypted message presented in code bits:\",temp) \n",
    "    lengthd = len(temp)\n",
    "    print(\"\\nLength of encoded bits:- \",lengthd)\n",
    "    i=0\n",
    "    a=0\n",
    "    b=4\n",
    "    c=4\n",
    "    d=12\n",
    "    final=''\n",
    "    while i<len(temp):\n",
    "        t3=temp[a:b]\n",
    "        a+=12\n",
    "        b+=12\n",
    "        i+=12\n",
    "        t4=temp[c:d]\n",
    "        c+=12\n",
    "        d+=12\n",
    "        if(t3=='0110'):\n",
    "            decimal_data = BinaryToDecimal(t4)\n",
    "            final+=chr((decimal_data ^ 170) + 48)\n",
    "        elif(t3=='0011'):\n",
    "            decimal_data = BinaryToDecimal(t4)\n",
    "            final+=chr((decimal_data ^ 170) - 48)\n",
    "    print(\"\\nMessage after decoding from the stego file:- \",final)"
   ]
  },
  {
   "cell_type": "code",
   "execution_count": 4,
   "id": "7c9debe8",
   "metadata": {
    "tags": []
   },
   "outputs": [],
   "source": [
    "def txt_steg():\n",
    "    while True:\n",
    "        print(\"\\n\\t\\tTEXT STEGANOGRAPHY OPERATIONS\") \n",
    "        print(\"1. Encode the Text message\")  \n",
    "        print(\"2. Decode the Text message\")  \n",
    "        print(\"3. Exit\")  \n",
    "        choice1 = int(input(\"Enter the Choice:\"))   \n",
    "        if choice1 == 1:\n",
    "            encode_txt_data()\n",
    "        elif choice1 == 2:\n",
    "            decrypted=decode_txt_data() \n",
    "        elif choice1 == 3:\n",
    "            break\n",
    "        else:\n",
    "            print(\"Incorrect Choice\")\n",
    "        print(\"\\n\")"
   ]
  },
  {
   "cell_type": "code",
   "execution_count": null,
   "id": "d55c3754",
   "metadata": {
    "tags": []
   },
   "outputs": [
    {
     "name": "stdout",
     "output_type": "stream",
     "text": [
      "\n",
      "\t\tTEXT STEGANOGRAPHY OPERATIONS\n",
      "1. Encode the Text message\n",
      "2. Decode the Text message\n",
      "3. Exit\n"
     ]
    }
   ],
   "source": [
    "if __name__ == \"__main__\":\n",
    "    txt_steg()"
   ]
  },
  {
   "cell_type": "code",
   "execution_count": null,
   "id": "f38a0a77-9a2d-4dce-a537-83c66a0739a6",
   "metadata": {},
   "outputs": [],
   "source": []
  }
 ],
 "metadata": {
  "kernelspec": {
   "display_name": "Python 3 (ipykernel)",
   "language": "python",
   "name": "python3"
  },
  "language_info": {
   "codemirror_mode": {
    "name": "ipython",
    "version": 3
   },
   "file_extension": ".py",
   "mimetype": "text/x-python",
   "name": "python",
   "nbconvert_exporter": "python",
   "pygments_lexer": "ipython3",
   "version": "3.11.5"
  }
 },
 "nbformat": 4,
 "nbformat_minor": 5
}
