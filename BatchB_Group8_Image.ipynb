{
 "cells": [
  {
   "cell_type": "code",
   "execution_count": 1,
   "id": "b116aa8d",
   "metadata": {},
   "outputs": [
    {
     "ename": "ModuleNotFoundError",
     "evalue": "No module named 'numpy'",
     "output_type": "error",
     "traceback": [
      "\u001b[1;31m---------------------------------------------------------------------------\u001b[0m",
      "\u001b[1;31mModuleNotFoundError\u001b[0m                       Traceback (most recent call last)",
      "\u001b[1;32mc:\\Users\\Yashw\\OneDrive\\Desktop\\B_8\\BatchB_Group8_Image.ipynb Cell 1\u001b[0m line \u001b[0;36m1\n\u001b[1;32m----> <a href='vscode-notebook-cell:/c%3A/Users/Yashw/OneDrive/Desktop/B_8/BatchB_Group8_Image.ipynb#W0sZmlsZQ%3D%3D?line=0'>1</a>\u001b[0m \u001b[39mimport\u001b[39;00m \u001b[39mnumpy\u001b[39;00m \u001b[39mas\u001b[39;00m \u001b[39mnp\u001b[39;00m\n\u001b[0;32m      <a href='vscode-notebook-cell:/c%3A/Users/Yashw/OneDrive/Desktop/B_8/BatchB_Group8_Image.ipynb#W0sZmlsZQ%3D%3D?line=1'>2</a>\u001b[0m \u001b[39mimport\u001b[39;00m \u001b[39mpandas\u001b[39;00m \u001b[39mas\u001b[39;00m \u001b[39mpand\u001b[39;00m\n\u001b[0;32m      <a href='vscode-notebook-cell:/c%3A/Users/Yashw/OneDrive/Desktop/B_8/BatchB_Group8_Image.ipynb#W0sZmlsZQ%3D%3D?line=2'>3</a>\u001b[0m \u001b[39mimport\u001b[39;00m \u001b[39mos\u001b[39;00m\n",
      "\u001b[1;31mModuleNotFoundError\u001b[0m: No module named 'numpy'"
     ]
    }
   ],
   "source": [
    "import numpy as np\n",
    "import pandas as pand\n",
    "import os\n",
    "import cv2\n",
    "from matplotlib import pyplot as plt"
   ]
  },
  {
   "cell_type": "code",
   "execution_count": null,
   "id": "15b8f45b",
   "metadata": {},
   "outputs": [],
   "source": [
    "def msgtobinary(msg):\n",
    "    if type(msg) == str:\n",
    "        result= ''.join([ format(ord(i), \"08b\") for i in msg ])\n",
    "    \n",
    "    elif type(msg) == bytes or type(msg) == np.ndarray:\n",
    "        result= [ format(i, \"08b\") for i in msg ]\n",
    "    \n",
    "    elif type(msg) == int or type(msg) == np.uint8:\n",
    "        result=format(msg, \"08b\")\n",
    "\n",
    "    else:\n",
    "        raise TypeError(\"Input type is not supported in this function\")\n",
    "    \n",
    "    return result"
   ]
  },
  {
   "cell_type": "code",
   "execution_count": null,
   "id": "635723b9",
   "metadata": {},
   "outputs": [],
   "source": [
    "def encode_img_data(img):\n",
    "    data=input(\"\\nEnter the data to be Encoded in Image :\")    \n",
    "    if (len(data) == 0): \n",
    "        raise ValueError('Data entered to be encoded is empty')\n",
    "  \n",
    "    nameoffile = input(\"\\nEnter the name of the New Image (Stego Image) after Encoding(with extension):\")\n",
    "    \n",
    "    no_of_bytes=(img.shape[0] * img.shape[1] * 3) // 8\n",
    "    \n",
    "    print(\"\\t\\nMaximum bytes to encode in Image :\", no_of_bytes)\n",
    "    \n",
    "    if(len(data)>no_of_bytes):\n",
    "        raise ValueError(\"Insufficient bytes Error, Need Bigger Image or give Less Data !!\")\n",
    "    \n",
    "    data +='*^*^*'    \n",
    "    \n",
    "    binary_data=msgtobinary(data)\n",
    "    print(\"\\n\")\n",
    "    print(binary_data)\n",
    "    length_data=len(binary_data)\n",
    "    \n",
    "    print(\"\\nThe Length of Binary data\",length_data)\n",
    "    \n",
    "    index_data = 0\n",
    "    \n",
    "    for i in img:\n",
    "        for pixel in i:\n",
    "            r, g, b = msgtobinary(pixel)\n",
    "            if index_data < length_data:\n",
    "                pixel[0] = int(r[:-1] + binary_data[index_data], 2) \n",
    "                index_data += 1\n",
    "            if index_data < length_data:\n",
    "                pixel[1] = int(g[:-1] + binary_data[index_data], 2) \n",
    "                index_data += 1\n",
    "            if index_data < length_data:\n",
    "                pixel[2] = int(b[:-1] + binary_data[index_data], 2) \n",
    "                index_data += 1\n",
    "            if index_data >= length_data:\n",
    "                break\n",
    "    cv2.imwrite(nameoffile,img)\n",
    "    print(\"\\nEncoded the data successfully in the Image and the image is successfully saved with name \",nameoffile)"
   ]
  },
  {
   "cell_type": "code",
   "execution_count": null,
   "id": "ce48518f",
   "metadata": {},
   "outputs": [],
   "source": [
    "def decode_img_data(img):\n",
    "    data_binary = \"\"\n",
    "    for i in img:\n",
    "        for pixel in i:\n",
    "            r, g, b = msgtobinary(pixel) \n",
    "            data_binary += r[-1]  \n",
    "            data_binary += g[-1]  \n",
    "            data_binary += b[-1]  \n",
    "            total_bytes = [ data_binary[i: i+8] for i in range(0, len(data_binary), 8) ]\n",
    "            decoded_data = \"\"\n",
    "            for byte in total_bytes:\n",
    "                decoded_data += chr(int(byte, 2))\n",
    "                if decoded_data[-5:] == \"*^*^*\": \n",
    "                    print(\"\\n\\nThe Encoded data which was hidden in the Image was :--  \",decoded_data[:-5])\n",
    "                    return "
   ]
  },
  {
   "cell_type": "code",
   "execution_count": null,
   "id": "59b37fd1",
   "metadata": {},
   "outputs": [],
   "source": [
    "def img_steg():\n",
    "    while True:\n",
    "        print(\"\\n\\t\\tIMAGE STEGANOGRAPHY OPERATIONS\\n\") \n",
    "        print(\"1. Encode the Text message\") \n",
    "        print(\"2. Decode the Text message\") \n",
    "        print(\"3. Exit\")  \n",
    "        choice1 = int(input(\"Enter the Choice: \"))   \n",
    "        if choice1 == 1:\n",
    "            image=cv2.imread(\"coverimage_sample.png\")\n",
    "            encode_img_data(image)\n",
    "        elif choice1 == 2:\n",
    "            image1=cv2.imread(input(\"Enter the Image you need to Decode to get the Secret message :  \"))\n",
    "            decode_img_data(image1)\n",
    "        elif choice1 == 3:\n",
    "            break\n",
    "        else:\n",
    "            print(\"Incorrect Choice\")\n",
    "        print(\"\\n\")"
   ]
  },
  {
   "cell_type": "code",
   "execution_count": null,
   "id": "2c1fc3b6",
   "metadata": {},
   "outputs": [
    {
     "name": "stdout",
     "output_type": "stream",
     "text": [
      "\n",
      "\t\tIMAGE STEGANOGRAPHY OPERATIONS\n",
      "\n",
      "1. Encode the Text message\n",
      "2. Decode the Text message\n",
      "3. Exit\n",
      "\t\n",
      "Maximum bytes to encode in Image : 1256978\n",
      "\n",
      "\n",
      "0101100101100001011100110110100001110111011010010111010001101000011000010010101001011110001010100101111000101010\n",
      "\n",
      "The Length of Binary data 112\n",
      "\n",
      "Encoded the data successfully in the Image and the image is successfully saved with name  ash.png\n",
      "\n",
      "\n",
      "\n",
      "\t\tIMAGE STEGANOGRAPHY OPERATIONS\n",
      "\n",
      "1. Encode the Text message\n",
      "2. Decode the Text message\n",
      "3. Exit\n"
     ]
    },
    {
     "ename": "ValueError",
     "evalue": "invalid literal for int() with base 10: ''",
     "output_type": "error",
     "traceback": [
      "\u001b[1;31m---------------------------------------------------------------------------\u001b[0m",
      "\u001b[1;31mValueError\u001b[0m                                Traceback (most recent call last)",
      "\u001b[1;32mc:\\Users\\Ashwitha\\Downloads\\Steganography-Tools-master (O)\\Steganography-Tools-master\\Steganography-Tools-master\\Steganography-Tools-master\\Steganography.ipynb Cell 5\u001b[0m line \u001b[0;36m2\n\u001b[0;32m      <a href='vscode-notebook-cell:/c%3A/Users/Ashwitha/Downloads/Steganography-Tools-master%20%28O%29/Steganography-Tools-master/Steganography-Tools-master/Steganography-Tools-master/Steganography.ipynb#X33sZmlsZQ%3D%3D?line=0'>1</a>\u001b[0m \u001b[39mif\u001b[39;00m \u001b[39m__name__\u001b[39m \u001b[39m==\u001b[39m \u001b[39m\"\u001b[39m\u001b[39m__main__\u001b[39m\u001b[39m\"\u001b[39m:\n\u001b[1;32m----> <a href='vscode-notebook-cell:/c%3A/Users/Ashwitha/Downloads/Steganography-Tools-master%20%28O%29/Steganography-Tools-master/Steganography-Tools-master/Steganography-Tools-master/Steganography.ipynb#X33sZmlsZQ%3D%3D?line=1'>2</a>\u001b[0m     img_steg()\n",
      "\u001b[1;32mc:\\Users\\Ashwitha\\Downloads\\Steganography-Tools-master (O)\\Steganography-Tools-master\\Steganography-Tools-master\\Steganography-Tools-master\\Steganography.ipynb Cell 5\u001b[0m line \u001b[0;36m7\n\u001b[0;32m      <a href='vscode-notebook-cell:/c%3A/Users/Ashwitha/Downloads/Steganography-Tools-master%20%28O%29/Steganography-Tools-master/Steganography-Tools-master/Steganography-Tools-master/Steganography.ipynb#X33sZmlsZQ%3D%3D?line=4'>5</a>\u001b[0m \u001b[39mprint\u001b[39m(\u001b[39m\"\u001b[39m\u001b[39m2. Decode the Text message\u001b[39m\u001b[39m\"\u001b[39m) \n\u001b[0;32m      <a href='vscode-notebook-cell:/c%3A/Users/Ashwitha/Downloads/Steganography-Tools-master%20%28O%29/Steganography-Tools-master/Steganography-Tools-master/Steganography-Tools-master/Steganography.ipynb#X33sZmlsZQ%3D%3D?line=5'>6</a>\u001b[0m \u001b[39mprint\u001b[39m(\u001b[39m\"\u001b[39m\u001b[39m3. Exit\u001b[39m\u001b[39m\"\u001b[39m)  \n\u001b[1;32m----> <a href='vscode-notebook-cell:/c%3A/Users/Ashwitha/Downloads/Steganography-Tools-master%20%28O%29/Steganography-Tools-master/Steganography-Tools-master/Steganography-Tools-master/Steganography.ipynb#X33sZmlsZQ%3D%3D?line=6'>7</a>\u001b[0m choice1 \u001b[39m=\u001b[39m \u001b[39mint\u001b[39;49m(\u001b[39minput\u001b[39;49m(\u001b[39m\"\u001b[39;49m\u001b[39mEnter the Choice: \u001b[39;49m\u001b[39m\"\u001b[39;49m))   \n\u001b[0;32m      <a href='vscode-notebook-cell:/c%3A/Users/Ashwitha/Downloads/Steganography-Tools-master%20%28O%29/Steganography-Tools-master/Steganography-Tools-master/Steganography-Tools-master/Steganography.ipynb#X33sZmlsZQ%3D%3D?line=7'>8</a>\u001b[0m \u001b[39mif\u001b[39;00m choice1 \u001b[39m==\u001b[39m \u001b[39m1\u001b[39m:\n\u001b[0;32m      <a href='vscode-notebook-cell:/c%3A/Users/Ashwitha/Downloads/Steganography-Tools-master%20%28O%29/Steganography-Tools-master/Steganography-Tools-master/Steganography-Tools-master/Steganography.ipynb#X33sZmlsZQ%3D%3D?line=8'>9</a>\u001b[0m     image\u001b[39m=\u001b[39mcv2\u001b[39m.\u001b[39mimread(\u001b[39m\"\u001b[39m\u001b[39mcoverimage_sample.png\u001b[39m\u001b[39m\"\u001b[39m)\n",
      "\u001b[1;31mValueError\u001b[0m: invalid literal for int() with base 10: ''"
     ]
    }
   ],
   "source": [
    "if __name__ == \"__main__\":\n",
    "    img_steg()"
   ]
  },
  {
   "cell_type": "code",
   "execution_count": null,
   "id": "b8e308ed",
   "metadata": {},
   "outputs": [],
   "source": []
  }
 ],
 "metadata": {
  "kernelspec": {
   "display_name": "Python 3 (ipykernel)",
   "language": "python",
   "name": "python3"
  },
  "language_info": {
   "codemirror_mode": {
    "name": "ipython",
    "version": 3
   },
   "file_extension": ".py",
   "mimetype": "text/x-python",
   "name": "python",
   "nbconvert_exporter": "python",
   "pygments_lexer": "ipython3",
   "version": "3.11.2"
  }
 },
 "nbformat": 4,
 "nbformat_minor": 5
}
