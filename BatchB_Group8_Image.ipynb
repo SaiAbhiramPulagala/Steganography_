{
 "cells": [
  {
   "cell_type": "code",
   "execution_count": 10,
   "id": "b116aa8d",
   "metadata": {},
   "outputs": [],
   "source": [
    "import numpy as np\n",
    "import pandas as pd\n",
    "import os\n",
    "import cv2\n",
    "from matplotlib import pyplot as plt"
   ]
  },
  {
   "cell_type": "code",
   "execution_count": 11,
   "id": "15b8f45b",
   "metadata": {},
   "outputs": [],
   "source": [
    "def msgtobinary(msg):\n",
    "    if type(msg) == str:\n",
    "        result= ''.join([ format(ord(i), \"08b\") for i in msg ])\n",
    "    \n",
    "    elif type(msg) == bytes or type(msg) == np.ndarray:\n",
    "        result= [ format(i, \"08b\") for i in msg ]\n",
    "    \n",
    "    elif type(msg) == int or type(msg) == np.uint8:\n",
    "        result=format(msg, \"08b\")\n",
    "\n",
    "    else:\n",
    "        raise TypeError(\"Input type is not supported in this function\")\n",
    "    \n",
    "    return result"
   ]
  },
  {
   "cell_type": "code",
   "execution_count": 12,
   "id": "635723b9",
   "metadata": {},
   "outputs": [],
   "source": [
    "def encode_img_data(img):\n",
    "    data=input(\"\\nEnter the data to be Encoded in Image :\")    \n",
    "    if (len(data) == 0): \n",
    "        raise ValueError('Data entered to be encoded is empty')\n",
    "  \n",
    "    nameoffile = input(\"\\nEnter the name of the New Image (Stego Image) after Encoding(with extension):\")\n",
    "    \n",
    "    no_of_bytes=(img.shape[0] * img.shape[1] * 3) // 8\n",
    "    \n",
    "    print(\"\\t\\nMaximum bytes to encode in Image :\", no_of_bytes)\n",
    "    \n",
    "    if(len(data)>no_of_bytes):\n",
    "        raise ValueError(\"Insufficient bytes Error, Need Bigger Image or give Less Data !!\")\n",
    "    \n",
    "    data +='*^*^*'    \n",
    "    \n",
    "    binary_data=msgtobinary(data)\n",
    "    print(\"\\n\")\n",
    "    print(binary_data)\n",
    "    length_data=len(binary_data)\n",
    "    \n",
    "    print(\"\\nThe Length of Binary data\",length_data)\n",
    "    \n",
    "    index_data = 0\n",
    "    \n",
    "    for i in img:\n",
    "        for pixel in i:\n",
    "            r, g, b = msgtobinary(pixel)\n",
    "            if index_data < length_data:\n",
    "                pixel[0] = int(r[:-1] + binary_data[index_data], 2) \n",
    "                index_data += 1\n",
    "            if index_data < length_data:\n",
    "                pixel[1] = int(g[:-1] + binary_data[index_data], 2) \n",
    "                index_data += 1\n",
    "            if index_data < length_data:\n",
    "                pixel[2] = int(b[:-1] + binary_data[index_data], 2) \n",
    "                index_data += 1\n",
    "            if index_data >= length_data:\n",
    "                break\n",
    "    cv2.imwrite(nameoffile,img)\n",
    "    print(\"\\nEncoded the data successfully in the Image and the image is successfully saved with name \",nameoffile)"
   ]
  },
  {
   "cell_type": "code",
   "execution_count": 13,
   "id": "ce48518f",
   "metadata": {},
   "outputs": [],
   "source": [
    "def decode_img_data(img):\n",
    "    data_binary = \"\"\n",
    "    for i in img:\n",
    "        for pixel in i:\n",
    "            r, g, b = msgtobinary(pixel) \n",
    "            data_binary += r[-1]  \n",
    "            data_binary += g[-1]  \n",
    "            data_binary += b[-1]  \n",
    "            total_bytes = [ data_binary[i: i+8] for i in range(0, len(data_binary), 8) ]\n",
    "            decoded_data = \"\"\n",
    "            for byte in total_bytes:\n",
    "                decoded_data += chr(int(byte, 2))\n",
    "                if decoded_data[-5:] == \"*^*^*\": \n",
    "                    print(\"\\n\\nThe Encoded data which was hidden in the Image was :--  \",decoded_data[:-5])\n",
    "                    return "
   ]
  },
  {
   "cell_type": "code",
   "execution_count": 14,
   "id": "59b37fd1",
   "metadata": {},
   "outputs": [],
   "source": [
    "def img_steg():\n",
    "    while True:\n",
    "        print(\"\\n\\t\\tIMAGE STEGANOGRAPHY OPERATIONS\\n\") \n",
    "        print(\"1. Encode the Text message\") \n",
    "        print(\"2. Decode the Text message\") \n",
    "        print(\"3. Exit\")  \n",
    "        choice1 = int(input(\"Enter the Choice: \"))   \n",
    "        if choice1 == 1:\n",
    "            image=cv2.imread(\"coverimage_sample.png\")\n",
    "            encode_img_data(image)\n",
    "        elif choice1 == 2:\n",
    "            image1=cv2.imread(input(\"Enter the Image you need to Decode to get the Secret message :  \"))\n",
    "            decode_img_data(image1)\n",
    "        elif choice1 == 3:\n",
    "            break\n",
    "        else:\n",
    "            print(\"Incorrect Choice\")\n",
    "        print(\"\\n\")"
   ]
  },
  {
   "cell_type": "code",
   "execution_count": 15,
   "id": "2c1fc3b6",
   "metadata": {},
   "outputs": [
    {
     "name": "stdout",
     "output_type": "stream",
     "text": [
      "\n",
      "\t\tIMAGE STEGANOGRAPHY OPERATIONS\n",
      "\n",
      "1. Encode the Text message\n",
      "2. Decode the Text message\n",
      "3. Exit\n"
     ]
    },
    {
     "name": "stdin",
     "output_type": "stream",
     "text": [
      "Enter the Choice:  1\n",
      "\n",
      "Enter the data to be Encoded in Image : Hello\n",
      "\n",
      "Enter the name of the New Image (Stego Image) after Encoding(with extension): enc.png\n"
     ]
    },
    {
     "name": "stdout",
     "output_type": "stream",
     "text": [
      "\t\n",
      "Maximum bytes to encode in Image : 18871\n",
      "\n",
      "\n",
      "01001000011001010110110001101100011011110010101001011110001010100101111000101010\n",
      "\n",
      "The Length of Binary data 80\n",
      "\n",
      "Encoded the data successfully in the Image and the image is successfully saved with name  enc.png\n",
      "\n",
      "\n",
      "\n",
      "\t\tIMAGE STEGANOGRAPHY OPERATIONS\n",
      "\n",
      "1. Encode the Text message\n",
      "2. Decode the Text message\n",
      "3. Exit\n"
     ]
    },
    {
     "name": "stdin",
     "output_type": "stream",
     "text": [
      "Enter the Choice:  2\n",
      "Enter the Image you need to Decode to get the Secret message :   enc.png\n"
     ]
    },
    {
     "name": "stdout",
     "output_type": "stream",
     "text": [
      "\n",
      "\n",
      "The Encoded data which was hidden in the Image was :--   Hello\n",
      "\n",
      "\n",
      "\n",
      "\t\tIMAGE STEGANOGRAPHY OPERATIONS\n",
      "\n",
      "1. Encode the Text message\n",
      "2. Decode the Text message\n",
      "3. Exit\n"
     ]
    },
    {
     "name": "stdin",
     "output_type": "stream",
     "text": [
      "Enter the Choice:  3\n"
     ]
    }
   ],
   "source": [
    "if __name__ == \"__main__\":\n",
    "    img_steg()"
   ]
  },
  {
   "cell_type": "code",
   "execution_count": null,
   "id": "b8e308ed",
   "metadata": {},
   "outputs": [],
   "source": []
  }
 ],
 "metadata": {
  "kernelspec": {
   "display_name": "Python 3 (ipykernel)",
   "language": "python",
   "name": "python3"
  },
  "language_info": {
   "codemirror_mode": {
    "name": "ipython",
    "version": 3
   },
   "file_extension": ".py",
   "mimetype": "text/x-python",
   "name": "python",
   "nbconvert_exporter": "python",
   "pygments_lexer": "ipython3",
   "version": "3.11.7"
  }
 },
 "nbformat": 4,
 "nbformat_minor": 5
}
